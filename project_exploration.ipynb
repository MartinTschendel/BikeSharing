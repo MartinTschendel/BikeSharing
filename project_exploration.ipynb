{
 "cells": [
  {
   "cell_type": "markdown",
   "metadata": {},
   "source": [
    "# Ford GoBike System Data Exploration\n",
    "## by Martin Tschendel\n",
    "\n",
    "## Preliminary Wrangling\n",
    "\n",
    "This data set includes information about individual rides made in a bike-sharing system covering the greater San Francisco Bay area."
   ]
  },
  {
   "cell_type": "code",
   "execution_count": 33,
   "metadata": {},
   "outputs": [],
   "source": [
    "# import all packages and set plots to be embedded inline\n",
    "import numpy as np\n",
    "import pandas as pd\n",
    "import matplotlib.pyplot as plt\n",
    "import seaborn as sb\n",
    "\n",
    "%matplotlib inline"
   ]
  },
  {
   "cell_type": "markdown",
   "metadata": {},
   "source": [
    "> Load in your dataset and describe its properties through the questions below.\n",
    "Try and motivate your exploration goals through this section."
   ]
  },
  {
   "cell_type": "code",
   "execution_count": 34,
   "metadata": {},
   "outputs": [],
   "source": [
    "#load in the datasets \n",
    "data_1801 = pd.read_csv('data/201801-fordgobike-tripdata.csv')\n",
    "data_1802 = pd.read_csv('data/201802-fordgobike-tripdata.csv')\n",
    "data_1803 = pd.read_csv('data/201803-fordgobike-tripdata.csv')\n",
    "data_1804 = pd.read_csv('data/201804-fordgobike-tripdata.csv')\n",
    "data_1805 = pd.read_csv('data/201805-fordgobike-tripdata.csv')\n",
    "data_1806 = pd.read_csv('data/201806-fordgobike-tripdata.csv')\n",
    "data_1807 = pd.read_csv('data/201807-fordgobike-tripdata.csv')\n",
    "data_1808 = pd.read_csv('data/201808-fordgobike-tripdata.csv')\n",
    "data_1809 = pd.read_csv('data/201809-fordgobike-tripdata.csv')\n",
    "data_1810 = pd.read_csv('data/201810-fordgobike-tripdata.csv')\n",
    "data_1811 = pd.read_csv('data/201811-fordgobike-tripdata.csv')\n",
    "data_1812 = pd.read_csv('data/201812-fordgobike-tripdata.csv')"
   ]
  },
  {
   "cell_type": "code",
   "execution_count": 35,
   "metadata": {},
   "outputs": [
    {
     "name": "stdout",
     "output_type": "stream",
     "text": [
      "<class 'pandas.core.frame.DataFrame'>\n",
      "RangeIndex: 94802 entries, 0 to 94801\n",
      "Data columns (total 16 columns):\n",
      "duration_sec               94802 non-null int64\n",
      "start_time                 94802 non-null object\n",
      "end_time                   94802 non-null object\n",
      "start_station_id           94802 non-null int64\n",
      "start_station_name         94802 non-null object\n",
      "start_station_latitude     94802 non-null float64\n",
      "start_station_longitude    94802 non-null float64\n",
      "end_station_id             94802 non-null int64\n",
      "end_station_name           94802 non-null object\n",
      "end_station_latitude       94802 non-null float64\n",
      "end_station_longitude      94802 non-null float64\n",
      "bike_id                    94802 non-null int64\n",
      "user_type                  94802 non-null object\n",
      "member_birth_year          86963 non-null float64\n",
      "member_gender              87001 non-null object\n",
      "bike_share_for_all_trip    94802 non-null object\n",
      "dtypes: float64(5), int64(4), object(7)\n",
      "memory usage: 11.6+ MB\n"
     ]
    }
   ],
   "source": [
    "data_1801.info()"
   ]
  },
  {
   "cell_type": "code",
   "execution_count": 36,
   "metadata": {},
   "outputs": [
    {
     "name": "stdout",
     "output_type": "stream",
     "text": [
      "<class 'pandas.core.frame.DataFrame'>\n",
      "RangeIndex: 111382 entries, 0 to 111381\n",
      "Data columns (total 16 columns):\n",
      "duration_sec               111382 non-null int64\n",
      "start_time                 111382 non-null object\n",
      "end_time                   111382 non-null object\n",
      "start_station_id           111382 non-null int64\n",
      "start_station_name         111382 non-null object\n",
      "start_station_latitude     111382 non-null float64\n",
      "start_station_longitude    111382 non-null float64\n",
      "end_station_id             111382 non-null int64\n",
      "end_station_name           111382 non-null object\n",
      "end_station_latitude       111382 non-null float64\n",
      "end_station_longitude      111382 non-null float64\n",
      "bike_id                    111382 non-null int64\n",
      "user_type                  111382 non-null object\n",
      "member_birth_year          102347 non-null float64\n",
      "member_gender              102385 non-null object\n",
      "bike_share_for_all_trip    111382 non-null object\n",
      "dtypes: float64(5), int64(4), object(7)\n",
      "memory usage: 13.6+ MB\n"
     ]
    }
   ],
   "source": [
    "data_1803.info()"
   ]
  },
  {
   "cell_type": "code",
   "execution_count": 37,
   "metadata": {},
   "outputs": [
    {
     "name": "stdout",
     "output_type": "stream",
     "text": [
      "<class 'pandas.core.frame.DataFrame'>\n",
      "RangeIndex: 134135 entries, 0 to 134134\n",
      "Data columns (total 16 columns):\n",
      "duration_sec               134135 non-null int64\n",
      "start_time                 134135 non-null object\n",
      "end_time                   134135 non-null object\n",
      "start_station_id           133651 non-null float64\n",
      "start_station_name         133651 non-null object\n",
      "start_station_latitude     134135 non-null float64\n",
      "start_station_longitude    134135 non-null float64\n",
      "end_station_id             133651 non-null float64\n",
      "end_station_name           133651 non-null object\n",
      "end_station_latitude       134135 non-null float64\n",
      "end_station_longitude      134135 non-null float64\n",
      "bike_id                    134135 non-null int64\n",
      "user_type                  134135 non-null object\n",
      "member_birth_year          129037 non-null float64\n",
      "member_gender              129037 non-null object\n",
      "bike_share_for_all_trip    134135 non-null object\n",
      "dtypes: float64(7), int64(2), object(7)\n",
      "memory usage: 16.4+ MB\n"
     ]
    }
   ],
   "source": [
    "data_1811.info()"
   ]
  },
  {
   "cell_type": "code",
   "execution_count": 38,
   "metadata": {},
   "outputs": [],
   "source": [
    "#join dataframes along rows\n",
    "df_18 = pd.concat([data_1801, data_1802, data_1803, data_1804,\n",
    "                  data_1805, data_1806, data_1807, data_1808,\n",
    "                  data_1809, data_1810, data_1811, data_1812,], sort=True)"
   ]
  },
  {
   "cell_type": "code",
   "execution_count": 39,
   "metadata": {},
   "outputs": [
    {
     "name": "stdout",
     "output_type": "stream",
     "text": [
      "<class 'pandas.core.frame.DataFrame'>\n",
      "Int64Index: 1863721 entries, 0 to 131362\n",
      "Data columns (total 16 columns):\n",
      "bike_id                    int64\n",
      "bike_share_for_all_trip    object\n",
      "duration_sec               int64\n",
      "end_station_id             float64\n",
      "end_station_latitude       float64\n",
      "end_station_longitude      float64\n",
      "end_station_name           object\n",
      "end_time                   object\n",
      "member_birth_year          float64\n",
      "member_gender              object\n",
      "start_station_id           float64\n",
      "start_station_latitude     float64\n",
      "start_station_longitude    float64\n",
      "start_station_name         object\n",
      "start_time                 object\n",
      "user_type                  object\n",
      "dtypes: float64(7), int64(2), object(7)\n",
      "memory usage: 241.7+ MB\n"
     ]
    }
   ],
   "source": [
    "df_18.info()"
   ]
  },
  {
   "cell_type": "markdown",
   "metadata": {},
   "source": [
    "### Data quality issues\n",
    "* data type of column 'timestamp' is object and not datetime\n",
    "* datatype of user_type and member_gender is object and not category\n",
    "* datatype of start_station_id and end_station_id  is float and not category"
   ]
  },
  {
   "cell_type": "code",
   "execution_count": 40,
   "metadata": {},
   "outputs": [],
   "source": [
    "# Change datetype of columns start_time and end_time to datetime\n",
    "df_18.start_time = pd.to_datetime(df_18.start_time)"
   ]
  },
  {
   "cell_type": "code",
   "execution_count": 41,
   "metadata": {},
   "outputs": [],
   "source": [
    "df_18.end_time = pd.to_datetime(df_18.end_time)"
   ]
  },
  {
   "cell_type": "code",
   "execution_count": 42,
   "metadata": {},
   "outputs": [],
   "source": [
    "# Change data type from object to category\n",
    "df_18.user_type = df_18.user_type.astype('category')\n",
    "df_18.member_gender = df_18.member_gender.astype('category')"
   ]
  },
  {
   "cell_type": "code",
   "execution_count": 43,
   "metadata": {},
   "outputs": [],
   "source": [
    "# Convert the start_station_id and end_station_id column's data type from a float to a \n",
    "# string using astype, remove the '.0' using string slicing, and convert datatype from a string to a ctegory \n",
    "df_18.start_station_id = df_18.start_station_id.astype(str).str[:-2]\n",
    "df_18.start_station_id = df_18.start_station_id.astype('category')\n",
    "df_18.end_station_id = df_18.end_station_id.astype(str).str[:-2]\n",
    "df_18.end_station_id = df_18.end_station_id.astype('category')"
   ]
  },
  {
   "cell_type": "code",
   "execution_count": 44,
   "metadata": {},
   "outputs": [
    {
     "name": "stdout",
     "output_type": "stream",
     "text": [
      "<class 'pandas.core.frame.DataFrame'>\n",
      "Int64Index: 1863721 entries, 0 to 131362\n",
      "Data columns (total 16 columns):\n",
      "bike_id                    int64\n",
      "bike_share_for_all_trip    object\n",
      "duration_sec               int64\n",
      "end_station_id             category\n",
      "end_station_latitude       float64\n",
      "end_station_longitude      float64\n",
      "end_station_name           object\n",
      "end_time                   datetime64[ns]\n",
      "member_birth_year          float64\n",
      "member_gender              category\n",
      "start_station_id           category\n",
      "start_station_latitude     float64\n",
      "start_station_longitude    float64\n",
      "start_station_name         object\n",
      "start_time                 datetime64[ns]\n",
      "user_type                  category\n",
      "dtypes: category(4), datetime64[ns](2), float64(5), int64(2), object(3)\n",
      "memory usage: 195.5+ MB\n"
     ]
    }
   ],
   "source": [
    "df_18.info()"
   ]
  },
  {
   "cell_type": "code",
   "execution_count": 45,
   "metadata": {},
   "outputs": [
    {
     "data": {
      "text/html": [
       "<div>\n",
       "<style scoped>\n",
       "    .dataframe tbody tr th:only-of-type {\n",
       "        vertical-align: middle;\n",
       "    }\n",
       "\n",
       "    .dataframe tbody tr th {\n",
       "        vertical-align: top;\n",
       "    }\n",
       "\n",
       "    .dataframe thead th {\n",
       "        text-align: right;\n",
       "    }\n",
       "</style>\n",
       "<table border=\"1\" class=\"dataframe\">\n",
       "  <thead>\n",
       "    <tr style=\"text-align: right;\">\n",
       "      <th></th>\n",
       "      <th>bike_id</th>\n",
       "      <th>duration_sec</th>\n",
       "      <th>end_station_latitude</th>\n",
       "      <th>end_station_longitude</th>\n",
       "      <th>member_birth_year</th>\n",
       "      <th>start_station_latitude</th>\n",
       "      <th>start_station_longitude</th>\n",
       "    </tr>\n",
       "  </thead>\n",
       "  <tbody>\n",
       "    <tr>\n",
       "      <th>count</th>\n",
       "      <td>1.863721e+06</td>\n",
       "      <td>1.863721e+06</td>\n",
       "      <td>1.863721e+06</td>\n",
       "      <td>1.863721e+06</td>\n",
       "      <td>1.753003e+06</td>\n",
       "      <td>1.863721e+06</td>\n",
       "      <td>1.863721e+06</td>\n",
       "    </tr>\n",
       "    <tr>\n",
       "      <th>mean</th>\n",
       "      <td>2.296851e+03</td>\n",
       "      <td>8.573026e+02</td>\n",
       "      <td>3.776690e+01</td>\n",
       "      <td>-1.223487e+02</td>\n",
       "      <td>1.983088e+03</td>\n",
       "      <td>3.776678e+01</td>\n",
       "      <td>-1.223492e+02</td>\n",
       "    </tr>\n",
       "    <tr>\n",
       "      <th>std</th>\n",
       "      <td>1.287733e+03</td>\n",
       "      <td>2.370379e+03</td>\n",
       "      <td>1.056483e-01</td>\n",
       "      <td>1.650597e-01</td>\n",
       "      <td>1.044289e+01</td>\n",
       "      <td>1.057689e-01</td>\n",
       "      <td>1.654634e-01</td>\n",
       "    </tr>\n",
       "    <tr>\n",
       "      <th>min</th>\n",
       "      <td>1.100000e+01</td>\n",
       "      <td>6.100000e+01</td>\n",
       "      <td>3.726331e+01</td>\n",
       "      <td>-1.224737e+02</td>\n",
       "      <td>1.881000e+03</td>\n",
       "      <td>3.726331e+01</td>\n",
       "      <td>-1.224737e+02</td>\n",
       "    </tr>\n",
       "    <tr>\n",
       "      <th>25%</th>\n",
       "      <td>1.225000e+03</td>\n",
       "      <td>3.500000e+02</td>\n",
       "      <td>3.777106e+01</td>\n",
       "      <td>-1.224094e+02</td>\n",
       "      <td>1.978000e+03</td>\n",
       "      <td>3.777106e+01</td>\n",
       "      <td>-1.224114e+02</td>\n",
       "    </tr>\n",
       "    <tr>\n",
       "      <th>50%</th>\n",
       "      <td>2.338000e+03</td>\n",
       "      <td>5.560000e+02</td>\n",
       "      <td>3.778127e+01</td>\n",
       "      <td>-1.223971e+02</td>\n",
       "      <td>1.985000e+03</td>\n",
       "      <td>3.778107e+01</td>\n",
       "      <td>-1.223974e+02</td>\n",
       "    </tr>\n",
       "    <tr>\n",
       "      <th>75%</th>\n",
       "      <td>3.333000e+03</td>\n",
       "      <td>8.720000e+02</td>\n",
       "      <td>3.779728e+01</td>\n",
       "      <td>-1.222894e+02</td>\n",
       "      <td>1.991000e+03</td>\n",
       "      <td>3.779625e+01</td>\n",
       "      <td>-1.222865e+02</td>\n",
       "    </tr>\n",
       "    <tr>\n",
       "      <th>max</th>\n",
       "      <td>6.234000e+03</td>\n",
       "      <td>8.636600e+04</td>\n",
       "      <td>4.551000e+01</td>\n",
       "      <td>-7.357000e+01</td>\n",
       "      <td>2.000000e+03</td>\n",
       "      <td>4.551000e+01</td>\n",
       "      <td>-7.357000e+01</td>\n",
       "    </tr>\n",
       "  </tbody>\n",
       "</table>\n",
       "</div>"
      ],
      "text/plain": [
       "            bike_id  duration_sec  end_station_latitude  \\\n",
       "count  1.863721e+06  1.863721e+06          1.863721e+06   \n",
       "mean   2.296851e+03  8.573026e+02          3.776690e+01   \n",
       "std    1.287733e+03  2.370379e+03          1.056483e-01   \n",
       "min    1.100000e+01  6.100000e+01          3.726331e+01   \n",
       "25%    1.225000e+03  3.500000e+02          3.777106e+01   \n",
       "50%    2.338000e+03  5.560000e+02          3.778127e+01   \n",
       "75%    3.333000e+03  8.720000e+02          3.779728e+01   \n",
       "max    6.234000e+03  8.636600e+04          4.551000e+01   \n",
       "\n",
       "       end_station_longitude  member_birth_year  start_station_latitude  \\\n",
       "count           1.863721e+06       1.753003e+06            1.863721e+06   \n",
       "mean           -1.223487e+02       1.983088e+03            3.776678e+01   \n",
       "std             1.650597e-01       1.044289e+01            1.057689e-01   \n",
       "min            -1.224737e+02       1.881000e+03            3.726331e+01   \n",
       "25%            -1.224094e+02       1.978000e+03            3.777106e+01   \n",
       "50%            -1.223971e+02       1.985000e+03            3.778107e+01   \n",
       "75%            -1.222894e+02       1.991000e+03            3.779625e+01   \n",
       "max            -7.357000e+01       2.000000e+03            4.551000e+01   \n",
       "\n",
       "       start_station_longitude  \n",
       "count             1.863721e+06  \n",
       "mean             -1.223492e+02  \n",
       "std               1.654634e-01  \n",
       "min              -1.224737e+02  \n",
       "25%              -1.224114e+02  \n",
       "50%              -1.223974e+02  \n",
       "75%              -1.222865e+02  \n",
       "max              -7.357000e+01  "
      ]
     },
     "execution_count": 45,
     "metadata": {},
     "output_type": "execute_result"
    }
   ],
   "source": [
    "df_18.describe()"
   ]
  },
  {
   "cell_type": "code",
   "execution_count": 46,
   "metadata": {},
   "outputs": [
    {
     "data": {
      "text/plain": [
       "Subscriber    1583554\n",
       "Customer       280167\n",
       "Name: user_type, dtype: int64"
      ]
     },
     "execution_count": 46,
     "metadata": {},
     "output_type": "execute_result"
    }
   ],
   "source": [
    "df_18['user_type'].value_counts()"
   ]
  },
  {
   "cell_type": "code",
   "execution_count": 47,
   "metadata": {},
   "outputs": [
    {
     "data": {
      "text/html": [
       "<div>\n",
       "<style scoped>\n",
       "    .dataframe tbody tr th:only-of-type {\n",
       "        vertical-align: middle;\n",
       "    }\n",
       "\n",
       "    .dataframe tbody tr th {\n",
       "        vertical-align: top;\n",
       "    }\n",
       "\n",
       "    .dataframe thead th {\n",
       "        text-align: right;\n",
       "    }\n",
       "</style>\n",
       "<table border=\"1\" class=\"dataframe\">\n",
       "  <thead>\n",
       "    <tr style=\"text-align: right;\">\n",
       "      <th></th>\n",
       "      <th>bike_id</th>\n",
       "      <th>bike_share_for_all_trip</th>\n",
       "      <th>duration_sec</th>\n",
       "      <th>end_station_id</th>\n",
       "      <th>end_station_latitude</th>\n",
       "      <th>end_station_longitude</th>\n",
       "      <th>end_station_name</th>\n",
       "      <th>end_time</th>\n",
       "      <th>member_birth_year</th>\n",
       "      <th>member_gender</th>\n",
       "      <th>start_station_id</th>\n",
       "      <th>start_station_latitude</th>\n",
       "      <th>start_station_longitude</th>\n",
       "      <th>start_station_name</th>\n",
       "      <th>start_time</th>\n",
       "      <th>user_type</th>\n",
       "    </tr>\n",
       "  </thead>\n",
       "  <tbody>\n",
       "    <tr>\n",
       "      <th>0</th>\n",
       "      <td>2765</td>\n",
       "      <td>No</td>\n",
       "      <td>75284</td>\n",
       "      <td>285</td>\n",
       "      <td>37.783521</td>\n",
       "      <td>-122.431158</td>\n",
       "      <td>Webster St at O'Farrell St</td>\n",
       "      <td>2018-02-01 19:47:19.824</td>\n",
       "      <td>1986.0</td>\n",
       "      <td>Male</td>\n",
       "      <td>120</td>\n",
       "      <td>37.761420</td>\n",
       "      <td>-122.426435</td>\n",
       "      <td>Mission Dolores Park</td>\n",
       "      <td>2018-01-31 22:52:35.239</td>\n",
       "      <td>Subscriber</td>\n",
       "    </tr>\n",
       "    <tr>\n",
       "      <th>1</th>\n",
       "      <td>2815</td>\n",
       "      <td>No</td>\n",
       "      <td>85422</td>\n",
       "      <td>15</td>\n",
       "      <td>37.795392</td>\n",
       "      <td>-122.394203</td>\n",
       "      <td>San Francisco Ferry Building (Harry Bridges Pl...</td>\n",
       "      <td>2018-02-01 15:57:17.310</td>\n",
       "      <td>NaN</td>\n",
       "      <td>NaN</td>\n",
       "      <td>15</td>\n",
       "      <td>37.795392</td>\n",
       "      <td>-122.394203</td>\n",
       "      <td>San Francisco Ferry Building (Harry Bridges Pl...</td>\n",
       "      <td>2018-01-31 16:13:34.351</td>\n",
       "      <td>Customer</td>\n",
       "    </tr>\n",
       "    <tr>\n",
       "      <th>2</th>\n",
       "      <td>3039</td>\n",
       "      <td>No</td>\n",
       "      <td>71576</td>\n",
       "      <td>296</td>\n",
       "      <td>37.325998</td>\n",
       "      <td>-121.877120</td>\n",
       "      <td>5th St at Virginia St</td>\n",
       "      <td>2018-02-01 10:16:52.116</td>\n",
       "      <td>1996.0</td>\n",
       "      <td>Male</td>\n",
       "      <td>304</td>\n",
       "      <td>37.348759</td>\n",
       "      <td>-121.894798</td>\n",
       "      <td>Jackson St at 5th St</td>\n",
       "      <td>2018-01-31 14:23:55.889</td>\n",
       "      <td>Customer</td>\n",
       "    </tr>\n",
       "    <tr>\n",
       "      <th>3</th>\n",
       "      <td>321</td>\n",
       "      <td>No</td>\n",
       "      <td>61076</td>\n",
       "      <td>47</td>\n",
       "      <td>37.780955</td>\n",
       "      <td>-122.399749</td>\n",
       "      <td>4th St at Harrison St</td>\n",
       "      <td>2018-02-01 07:51:20.500</td>\n",
       "      <td>NaN</td>\n",
       "      <td>NaN</td>\n",
       "      <td>75</td>\n",
       "      <td>37.773793</td>\n",
       "      <td>-122.421239</td>\n",
       "      <td>Market St at Franklin St</td>\n",
       "      <td>2018-01-31 14:53:23.562</td>\n",
       "      <td>Customer</td>\n",
       "    </tr>\n",
       "    <tr>\n",
       "      <th>4</th>\n",
       "      <td>617</td>\n",
       "      <td>No</td>\n",
       "      <td>39966</td>\n",
       "      <td>19</td>\n",
       "      <td>37.788975</td>\n",
       "      <td>-122.403452</td>\n",
       "      <td>Post St at Kearny St</td>\n",
       "      <td>2018-02-01 06:58:31.053</td>\n",
       "      <td>1991.0</td>\n",
       "      <td>Male</td>\n",
       "      <td>74</td>\n",
       "      <td>37.776435</td>\n",
       "      <td>-122.426244</td>\n",
       "      <td>Laguna St at Hayes St</td>\n",
       "      <td>2018-01-31 19:52:24.667</td>\n",
       "      <td>Subscriber</td>\n",
       "    </tr>\n",
       "  </tbody>\n",
       "</table>\n",
       "</div>"
      ],
      "text/plain": [
       "   bike_id bike_share_for_all_trip  duration_sec end_station_id  \\\n",
       "0     2765                      No         75284            285   \n",
       "1     2815                      No         85422             15   \n",
       "2     3039                      No         71576            296   \n",
       "3      321                      No         61076             47   \n",
       "4      617                      No         39966             19   \n",
       "\n",
       "   end_station_latitude  end_station_longitude  \\\n",
       "0             37.783521            -122.431158   \n",
       "1             37.795392            -122.394203   \n",
       "2             37.325998            -121.877120   \n",
       "3             37.780955            -122.399749   \n",
       "4             37.788975            -122.403452   \n",
       "\n",
       "                                    end_station_name                end_time  \\\n",
       "0                         Webster St at O'Farrell St 2018-02-01 19:47:19.824   \n",
       "1  San Francisco Ferry Building (Harry Bridges Pl... 2018-02-01 15:57:17.310   \n",
       "2                              5th St at Virginia St 2018-02-01 10:16:52.116   \n",
       "3                              4th St at Harrison St 2018-02-01 07:51:20.500   \n",
       "4                               Post St at Kearny St 2018-02-01 06:58:31.053   \n",
       "\n",
       "   member_birth_year member_gender start_station_id  start_station_latitude  \\\n",
       "0             1986.0          Male              120               37.761420   \n",
       "1                NaN           NaN               15               37.795392   \n",
       "2             1996.0          Male              304               37.348759   \n",
       "3                NaN           NaN               75               37.773793   \n",
       "4             1991.0          Male               74               37.776435   \n",
       "\n",
       "   start_station_longitude                                 start_station_name  \\\n",
       "0              -122.426435                               Mission Dolores Park   \n",
       "1              -122.394203  San Francisco Ferry Building (Harry Bridges Pl...   \n",
       "2              -121.894798                               Jackson St at 5th St   \n",
       "3              -122.421239                           Market St at Franklin St   \n",
       "4              -122.426244                              Laguna St at Hayes St   \n",
       "\n",
       "               start_time   user_type  \n",
       "0 2018-01-31 22:52:35.239  Subscriber  \n",
       "1 2018-01-31 16:13:34.351    Customer  \n",
       "2 2018-01-31 14:23:55.889    Customer  \n",
       "3 2018-01-31 14:53:23.562    Customer  \n",
       "4 2018-01-31 19:52:24.667  Subscriber  "
      ]
     },
     "execution_count": 47,
     "metadata": {},
     "output_type": "execute_result"
    }
   ],
   "source": [
    "df_18.head()"
   ]
  },
  {
   "cell_type": "markdown",
   "metadata": {},
   "source": [
    "### What is the structure of your dataset?\n",
    "\n",
    "There are nearly 1.9 Mio.individual ride entries in this dataset and they have 10 features. We can find variables with quantitative nature like the duration of each ride (duration_sec) and categorical variables like type of users (user_type).\n",
    "\n",
    "### What is/are the main feature(s) of interest in your dataset?\n",
    "\n",
    "> Your answer here!\n",
    "\n",
    "### What features in the dataset do you think will help support your investigation into your feature(s) of interest?\n",
    "\n",
    "> Your answer here!"
   ]
  },
  {
   "cell_type": "markdown",
   "metadata": {},
   "source": [
    "## Univariate Exploration\n",
    "\n",
    "> In this section, investigate distributions of individual variables. If\n",
    "you see unusual points or outliers, take a deeper look to clean things up\n",
    "and prepare yourself to look at relationships between variables."
   ]
  },
  {
   "cell_type": "code",
   "execution_count": null,
   "metadata": {},
   "outputs": [],
   "source": []
  },
  {
   "cell_type": "markdown",
   "metadata": {},
   "source": [
    "> Make sure that, after every plot or related series of plots, that you\n",
    "include a Markdown cell with comments about what you observed, and what\n",
    "you plan on investigating next."
   ]
  },
  {
   "cell_type": "code",
   "execution_count": null,
   "metadata": {},
   "outputs": [],
   "source": []
  },
  {
   "cell_type": "markdown",
   "metadata": {},
   "source": [
    "### Discuss the distribution(s) of your variable(s) of interest. Were there any unusual points? Did you need to perform any transformations?\n",
    "\n",
    "> Your answer here!\n",
    "\n",
    "### Of the features you investigated, were there any unusual distributions? Did you perform any operations on the data to tidy, adjust, or change the form of the data? If so, why did you do this?\n",
    "\n",
    "> Your answer here!"
   ]
  },
  {
   "cell_type": "markdown",
   "metadata": {},
   "source": [
    "## Bivariate Exploration\n",
    "\n",
    "> In this section, investigate relationships between pairs of variables in your\n",
    "data. Make sure the variables that you cover here have been introduced in some\n",
    "fashion in the previous section (univariate exploration)."
   ]
  },
  {
   "cell_type": "code",
   "execution_count": null,
   "metadata": {},
   "outputs": [],
   "source": []
  },
  {
   "cell_type": "markdown",
   "metadata": {},
   "source": [
    "### Talk about some of the relationships you observed in this part of the investigation. How did the feature(s) of interest vary with other features in the dataset?\n",
    "\n",
    "> Your answer here!\n",
    "\n",
    "### Did you observe any interesting relationships between the other features (not the main feature(s) of interest)?\n",
    "\n",
    "> Your answer here!"
   ]
  },
  {
   "cell_type": "markdown",
   "metadata": {},
   "source": [
    "## Multivariate Exploration\n",
    "\n",
    "> Create plots of three or more variables to investigate your data even\n",
    "further. Make sure that your investigations are justified, and follow from\n",
    "your work in the previous sections."
   ]
  },
  {
   "cell_type": "code",
   "execution_count": null,
   "metadata": {},
   "outputs": [],
   "source": []
  },
  {
   "cell_type": "markdown",
   "metadata": {},
   "source": [
    "### Talk about some of the relationships you observed in this part of the investigation. Were there features that strengthened each other in terms of looking at your feature(s) of interest?\n",
    "\n",
    "> Your answer here!\n",
    "\n",
    "### Were there any interesting or surprising interactions between features?\n",
    "\n",
    "> Your answer here!"
   ]
  },
  {
   "cell_type": "markdown",
   "metadata": {},
   "source": [
    "> At the end of your report, make sure that you export the notebook as an\n",
    "html file from the `File > Download as... > HTML` menu. Make sure you keep\n",
    "track of where the exported file goes, so you can put it in the same folder\n",
    "as this notebook for project submission. Also, make sure you remove all of\n",
    "the quote-formatted guide notes like this one before you finish your report!"
   ]
  },
  {
   "cell_type": "code",
   "execution_count": null,
   "metadata": {},
   "outputs": [],
   "source": []
  }
 ],
 "metadata": {
  "kernelspec": {
   "display_name": "Python 3",
   "language": "python",
   "name": "python3"
  },
  "language_info": {
   "codemirror_mode": {
    "name": "ipython",
    "version": 3
   },
   "file_extension": ".py",
   "mimetype": "text/x-python",
   "name": "python",
   "nbconvert_exporter": "python",
   "pygments_lexer": "ipython3",
   "version": "3.7.3"
  }
 },
 "nbformat": 4,
 "nbformat_minor": 2
}
