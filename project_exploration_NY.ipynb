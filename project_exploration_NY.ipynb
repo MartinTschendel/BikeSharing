{
 "cells": [
  {
   "cell_type": "markdown",
   "metadata": {},
   "source": [
    "## CitiBike System Data Exploration"
   ]
  },
  {
   "cell_type": "markdown",
   "metadata": {},
   "source": [
    "### by Martin Tschendel"
   ]
  },
  {
   "cell_type": "markdown",
   "metadata": {},
   "source": [
    "### Preliminary Wrangling"
   ]
  },
  {
   "cell_type": "markdown",
   "metadata": {},
   "source": [
    "This data set includes information about individual rides made in a bike-sharing system covering the greater San Francisco Bay area. Source of data: [Link](https://www.bikeshare.com/data/)"
   ]
  },
  {
   "cell_type": "code",
   "execution_count": 2,
   "metadata": {},
   "outputs": [],
   "source": [
    "# import all packages and set plots to be embedded inline\n",
    "\n",
    "import numpy as np\n",
    "import pandas as pd\n",
    "import matplotlib.pyplot as plt\n",
    "import seaborn as sb\n",
    "\n",
    "%matplotlib inline"
   ]
  },
  {
   "cell_type": "markdown",
   "metadata": {},
   "source": [
    "next I will load the dataset"
   ]
  },
  {
   "cell_type": "code",
   "execution_count": 6,
   "metadata": {},
   "outputs": [
    {
     "name": "stdout",
     "output_type": "stream",
     "text": [
      "Wall time: 0 ns\n"
     ]
    }
   ],
   "source": [
    "#load in the datasets \n",
    "data_1801 = pd.read_csv('data/201801-citibike-tripdata.csv')\n",
    "data_1802 = pd.read_csv('data/201802-citibike-tripdata.csv')\n",
    "data_1803 = pd.read_csv('data/201803-citibike-tripdata.csv')\n",
    "data_1804 = pd.read_csv('data/201804-citibike-tripdata.csv')\n",
    "data_1805 = pd.read_csv('data/201805-citibike-tripdata.csv')\n",
    "data_1806 = pd.read_csv('data/201806-citibike-tripdata.csv')\n",
    "data_1807 = pd.read_csv('data/201807-citibike-tripdata.csv')\n",
    "data_1808 = pd.read_csv('data/201808-citibike-tripdata.csv')\n",
    "data_1809 = pd.read_csv('data/201809-citibike-tripdata.csv')\n",
    "data_1810 = pd.read_csv('data/201810-citibike-tripdata.csv')\n",
    "data_1811 = pd.read_csv('data/201811-citibike-tripdata.csv')\n",
    "data_1812 = pd.read_csv('data/201812-citibike-tripdata.csv')"
   ]
  },
  {
   "cell_type": "markdown",
   "metadata": {},
   "source": [
    "Next I will join the datasets"
   ]
  },
  {
   "cell_type": "code",
   "execution_count": 17,
   "metadata": {},
   "outputs": [],
   "source": [
    "#join dataframes along rows\n",
    "df_18_NY = pd.concat([data_1801, data_1802, data_1803, data_1804,\n",
    "                  data_1805, data_1806, data_1807, data_1808,\n",
    "                  data_1809, data_1810, data_1811, data_1812,], sort=True)"
   ]
  },
  {
   "cell_type": "markdown",
   "metadata": {},
   "source": [
    "I'm interested in some characteristics of the new data set"
   ]
  },
  {
   "cell_type": "code",
   "execution_count": 14,
   "metadata": {},
   "outputs": [
    {
     "name": "stdout",
     "output_type": "stream",
     "text": [
      "<class 'pandas.core.frame.DataFrame'>\n",
      "Int64Index: 17548339 entries, 0 to 1016504\n",
      "Data columns (total 15 columns):\n",
      "bikeid                     int64\n",
      "birth year                 int64\n",
      "end station id             float64\n",
      "end station latitude       float64\n",
      "end station longitude      float64\n",
      "end station name           object\n",
      "gender                     int64\n",
      "start station id           float64\n",
      "start station latitude     float64\n",
      "start station longitude    float64\n",
      "start station name         object\n",
      "starttime                  object\n",
      "stoptime                   object\n",
      "tripduration               int64\n",
      "usertype                   object\n",
      "dtypes: float64(6), int64(4), object(5)\n",
      "memory usage: 2.1+ GB\n",
      "Wall time: 4.98 ms\n"
     ]
    }
   ],
   "source": [
    "df_18_NY.info()"
   ]
  },
  {
   "cell_type": "markdown",
   "metadata": {},
   "source": [
    "compared to the data from the San Francisco Bay Area, we have nearly 10 times more entries for New York. "
   ]
  },
  {
   "cell_type": "markdown",
   "metadata": {},
   "source": [
    "## Data Quality Issues\n",
    "I figured out some data quality issues and plan to solve them for the upcoming investigation steps.\n",
    "* data type of columns 'starttime' and 'endtime' is object and not datetime\n",
    "* usertype is object and not category\n",
    "* datatype of start_station_id and end_station_id is float and not category\n",
    "* gender is currently integer (Zero=unknown; 1=male; 2=female) and should be ideally changed to category (Zero->unknown; 1->male; 2->female) "
   ]
  },
  {
   "cell_type": "code",
   "execution_count": null,
   "metadata": {},
   "outputs": [],
   "source": []
  }
 ],
 "metadata": {
  "kernelspec": {
   "display_name": "Python 3",
   "language": "python",
   "name": "python3"
  },
  "language_info": {
   "codemirror_mode": {
    "name": "ipython",
    "version": 3
   },
   "file_extension": ".py",
   "mimetype": "text/x-python",
   "name": "python",
   "nbconvert_exporter": "python",
   "pygments_lexer": "ipython3",
   "version": "3.7.3"
  }
 },
 "nbformat": 4,
 "nbformat_minor": 2
}
