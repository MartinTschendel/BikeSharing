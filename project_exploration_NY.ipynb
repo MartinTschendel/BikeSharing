{
 "cells": [
  {
   "cell_type": "markdown",
   "metadata": {},
   "source": [
    "## CitiBike System Data Exploration"
   ]
  },
  {
   "cell_type": "markdown",
   "metadata": {},
   "source": [
    "### by Martin Tschendel"
   ]
  },
  {
   "cell_type": "markdown",
   "metadata": {},
   "source": [
    "### Preliminary Wrangling"
   ]
  },
  {
   "cell_type": "markdown",
   "metadata": {},
   "source": [
    "This data set includes information about individual rides made in a bike-sharing system covering the greater San Francisco Bay area. Source of data: [Link](https://www.bikeshare.com/data/)"
   ]
  },
  {
   "cell_type": "code",
   "execution_count": 1,
   "metadata": {},
   "outputs": [],
   "source": [
    "# import all packages and set plots to be embedded inline\n",
    "import numpy as np\n",
    "import pandas as pd\n",
    "import matplotlib.pyplot as plt\n",
    "import seaborn as sb\n",
    "\n",
    "%matplotlib inline"
   ]
  },
  {
   "cell_type": "markdown",
   "metadata": {},
   "source": [
    "next I will load the dataset"
   ]
  },
  {
   "cell_type": "code",
   "execution_count": 2,
   "metadata": {},
   "outputs": [],
   "source": [
    "#load in the datasets \n",
    "data_1801 = pd.read_csv('data/201801-citibike-tripdata.csv')\n",
    "data_1802 = pd.read_csv('data/201802-citibike-tripdata.csv')\n",
    "data_1803 = pd.read_csv('data/201803-citibike-tripdata.csv')\n",
    "data_1804 = pd.read_csv('data/201804-citibike-tripdata.csv')\n",
    "data_1805 = pd.read_csv('data/201805-citibike-tripdata.csv')\n",
    "data_1806 = pd.read_csv('data/201806-citibike-tripdata.csv')\n",
    "data_1807 = pd.read_csv('data/201807-citibike-tripdata.csv')\n",
    "data_1808 = pd.read_csv('data/201808-citibike-tripdata.csv')\n",
    "data_1809 = pd.read_csv('data/201809-citibike-tripdata.csv')\n",
    "data_1810 = pd.read_csv('data/201810-citibike-tripdata.csv')\n",
    "data_1811 = pd.read_csv('data/201811-citibike-tripdata.csv')\n",
    "data_1812 = pd.read_csv('data/201812-citibike-tripdata.csv')"
   ]
  },
  {
   "cell_type": "code",
   "execution_count": null,
   "metadata": {},
   "outputs": [],
   "source": []
  }
 ],
 "metadata": {
  "kernelspec": {
   "display_name": "Python 3",
   "language": "python",
   "name": "python3"
  },
  "language_info": {
   "codemirror_mode": {
    "name": "ipython",
    "version": 3
   },
   "file_extension": ".py",
   "mimetype": "text/x-python",
   "name": "python",
   "nbconvert_exporter": "python",
   "pygments_lexer": "ipython3",
   "version": "3.7.3"
  }
 },
 "nbformat": 4,
 "nbformat_minor": 2
}
