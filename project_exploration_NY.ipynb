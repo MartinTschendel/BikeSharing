{
 "cells": [
  {
   "cell_type": "markdown",
   "metadata": {},
   "source": [
    "## CitiBike System Data Exploration"
   ]
  },
  {
   "cell_type": "markdown",
   "metadata": {},
   "source": [
    "### by Martin Tschendel"
   ]
  },
  {
   "cell_type": "markdown",
   "metadata": {},
   "source": [
    "### Preliminary Wrangling"
   ]
  },
  {
   "cell_type": "markdown",
   "metadata": {},
   "source": [
    "This data set includes information about individual rides made in a bike-sharing system covering New\n",
    "York. Source of data: [Link](https://www.bikeshare.com/data/)"
   ]
  },
  {
   "cell_type": "code",
   "execution_count": 1,
   "metadata": {},
   "outputs": [],
   "source": [
    "# import all packages and set plots to be embedded inline\n",
    "\n",
    "import numpy as np\n",
    "import pandas as pd\n",
    "import matplotlib.pyplot as plt\n",
    "import seaborn as sb\n",
    "\n",
    "%matplotlib inline"
   ]
  },
  {
   "cell_type": "markdown",
   "metadata": {},
   "source": [
    "compared to the data from the San Francisco Bay Area, we have nearly 10 times more entries for New York in 2018. At first I only take the dataset for May 2018, in order to reduce the calculation time. "
   ]
  },
  {
   "cell_type": "markdown",
   "metadata": {},
   "source": [
    "next I will load the dataset"
   ]
  },
  {
   "cell_type": "code",
   "execution_count": 2,
   "metadata": {},
   "outputs": [],
   "source": [
    "#load in the dataset\n",
    "data_1805_NY = pd.read_csv('data/201805-citibike-tripdata.csv')"
   ]
  },
  {
   "cell_type": "markdown",
   "metadata": {},
   "source": [
    "I'm interested in some characteristics of the new data set"
   ]
  },
  {
   "cell_type": "code",
   "execution_count": 3,
   "metadata": {},
   "outputs": [
    {
     "name": "stdout",
     "output_type": "stream",
     "text": [
      "<class 'pandas.core.frame.DataFrame'>\n",
      "RangeIndex: 1824710 entries, 0 to 1824709\n",
      "Data columns (total 15 columns):\n",
      "tripduration               int64\n",
      "starttime                  object\n",
      "stoptime                   object\n",
      "start station id           int64\n",
      "start station name         object\n",
      "start station latitude     float64\n",
      "start station longitude    float64\n",
      "end station id             int64\n",
      "end station name           object\n",
      "end station latitude       float64\n",
      "end station longitude      float64\n",
      "bikeid                     int64\n",
      "usertype                   object\n",
      "birth year                 int64\n",
      "gender                     int64\n",
      "dtypes: float64(4), int64(6), object(5)\n",
      "memory usage: 208.8+ MB\n"
     ]
    }
   ],
   "source": [
    "data_1805_NY.info()"
   ]
  },
  {
   "cell_type": "markdown",
   "metadata": {},
   "source": [
    "## Data Quality Issues\n",
    "I figured out some data quality issues and plan to solve them for the upcoming investigation steps.\n",
    "* data type of columns 'starttime' and 'stoptime' is object and not datetime\n",
    "* usertype is object and not category\n",
    "* some column names like 'start station id' have white spaces \n",
    "* datatype of start_station_id and end_station_id is float and not category\n",
    "* gender is currently integer (Zero=unknown; 1=male; 2=female) and should be ideally changed to category (Zero->unknown; 1->male; 2->female) "
   ]
  },
  {
   "cell_type": "code",
   "execution_count": 4,
   "metadata": {},
   "outputs": [
    {
     "data": {
      "text/html": [
       "<div>\n",
       "<style scoped>\n",
       "    .dataframe tbody tr th:only-of-type {\n",
       "        vertical-align: middle;\n",
       "    }\n",
       "\n",
       "    .dataframe tbody tr th {\n",
       "        vertical-align: top;\n",
       "    }\n",
       "\n",
       "    .dataframe thead th {\n",
       "        text-align: right;\n",
       "    }\n",
       "</style>\n",
       "<table border=\"1\" class=\"dataframe\">\n",
       "  <thead>\n",
       "    <tr style=\"text-align: right;\">\n",
       "      <th></th>\n",
       "      <th>tripduration</th>\n",
       "      <th>starttime</th>\n",
       "      <th>stoptime</th>\n",
       "      <th>start station id</th>\n",
       "      <th>start station name</th>\n",
       "      <th>start station latitude</th>\n",
       "      <th>start station longitude</th>\n",
       "      <th>end station id</th>\n",
       "      <th>end station name</th>\n",
       "      <th>end station latitude</th>\n",
       "      <th>end station longitude</th>\n",
       "      <th>bikeid</th>\n",
       "      <th>usertype</th>\n",
       "      <th>birth year</th>\n",
       "      <th>gender</th>\n",
       "    </tr>\n",
       "  </thead>\n",
       "  <tbody>\n",
       "    <tr>\n",
       "      <th>0</th>\n",
       "      <td>367</td>\n",
       "      <td>2018-05-01 05:06:16.5840</td>\n",
       "      <td>2018-05-01 05:12:23.9650</td>\n",
       "      <td>72</td>\n",
       "      <td>W 52 St &amp; 11 Ave</td>\n",
       "      <td>40.767272</td>\n",
       "      <td>-73.993929</td>\n",
       "      <td>514</td>\n",
       "      <td>12 Ave &amp; W 40 St</td>\n",
       "      <td>40.760875</td>\n",
       "      <td>-74.002777</td>\n",
       "      <td>30567</td>\n",
       "      <td>Subscriber</td>\n",
       "      <td>1965</td>\n",
       "      <td>1</td>\n",
       "    </tr>\n",
       "    <tr>\n",
       "      <th>1</th>\n",
       "      <td>1313</td>\n",
       "      <td>2018-05-01 06:25:49.4250</td>\n",
       "      <td>2018-05-01 06:47:42.7120</td>\n",
       "      <td>72</td>\n",
       "      <td>W 52 St &amp; 11 Ave</td>\n",
       "      <td>40.767272</td>\n",
       "      <td>-73.993929</td>\n",
       "      <td>426</td>\n",
       "      <td>West St &amp; Chambers St</td>\n",
       "      <td>40.717548</td>\n",
       "      <td>-74.013221</td>\n",
       "      <td>18965</td>\n",
       "      <td>Subscriber</td>\n",
       "      <td>1956</td>\n",
       "      <td>1</td>\n",
       "    </tr>\n",
       "    <tr>\n",
       "      <th>2</th>\n",
       "      <td>1798</td>\n",
       "      <td>2018-05-01 06:40:26.4450</td>\n",
       "      <td>2018-05-01 07:10:25.1790</td>\n",
       "      <td>72</td>\n",
       "      <td>W 52 St &amp; 11 Ave</td>\n",
       "      <td>40.767272</td>\n",
       "      <td>-73.993929</td>\n",
       "      <td>3435</td>\n",
       "      <td>Grand St &amp; Elizabeth St</td>\n",
       "      <td>40.718822</td>\n",
       "      <td>-73.995960</td>\n",
       "      <td>30241</td>\n",
       "      <td>Subscriber</td>\n",
       "      <td>1959</td>\n",
       "      <td>2</td>\n",
       "    </tr>\n",
       "    <tr>\n",
       "      <th>3</th>\n",
       "      <td>518</td>\n",
       "      <td>2018-05-01 07:06:02.9730</td>\n",
       "      <td>2018-05-01 07:14:41.0040</td>\n",
       "      <td>72</td>\n",
       "      <td>W 52 St &amp; 11 Ave</td>\n",
       "      <td>40.767272</td>\n",
       "      <td>-73.993929</td>\n",
       "      <td>477</td>\n",
       "      <td>W 41 St &amp; 8 Ave</td>\n",
       "      <td>40.756405</td>\n",
       "      <td>-73.990026</td>\n",
       "      <td>28985</td>\n",
       "      <td>Subscriber</td>\n",
       "      <td>1986</td>\n",
       "      <td>1</td>\n",
       "    </tr>\n",
       "    <tr>\n",
       "      <th>4</th>\n",
       "      <td>109</td>\n",
       "      <td>2018-05-01 07:26:32.3450</td>\n",
       "      <td>2018-05-01 07:28:21.5420</td>\n",
       "      <td>72</td>\n",
       "      <td>W 52 St &amp; 11 Ave</td>\n",
       "      <td>40.767272</td>\n",
       "      <td>-73.993929</td>\n",
       "      <td>530</td>\n",
       "      <td>11 Ave &amp; W 59 St</td>\n",
       "      <td>40.771522</td>\n",
       "      <td>-73.990541</td>\n",
       "      <td>14556</td>\n",
       "      <td>Subscriber</td>\n",
       "      <td>1991</td>\n",
       "      <td>1</td>\n",
       "    </tr>\n",
       "  </tbody>\n",
       "</table>\n",
       "</div>"
      ],
      "text/plain": [
       "   tripduration                 starttime                  stoptime  \\\n",
       "0           367  2018-05-01 05:06:16.5840  2018-05-01 05:12:23.9650   \n",
       "1          1313  2018-05-01 06:25:49.4250  2018-05-01 06:47:42.7120   \n",
       "2          1798  2018-05-01 06:40:26.4450  2018-05-01 07:10:25.1790   \n",
       "3           518  2018-05-01 07:06:02.9730  2018-05-01 07:14:41.0040   \n",
       "4           109  2018-05-01 07:26:32.3450  2018-05-01 07:28:21.5420   \n",
       "\n",
       "   start station id start station name  start station latitude  \\\n",
       "0                72   W 52 St & 11 Ave               40.767272   \n",
       "1                72   W 52 St & 11 Ave               40.767272   \n",
       "2                72   W 52 St & 11 Ave               40.767272   \n",
       "3                72   W 52 St & 11 Ave               40.767272   \n",
       "4                72   W 52 St & 11 Ave               40.767272   \n",
       "\n",
       "   start station longitude  end station id         end station name  \\\n",
       "0               -73.993929             514         12 Ave & W 40 St   \n",
       "1               -73.993929             426    West St & Chambers St   \n",
       "2               -73.993929            3435  Grand St & Elizabeth St   \n",
       "3               -73.993929             477          W 41 St & 8 Ave   \n",
       "4               -73.993929             530         11 Ave & W 59 St   \n",
       "\n",
       "   end station latitude  end station longitude  bikeid    usertype  \\\n",
       "0             40.760875             -74.002777   30567  Subscriber   \n",
       "1             40.717548             -74.013221   18965  Subscriber   \n",
       "2             40.718822             -73.995960   30241  Subscriber   \n",
       "3             40.756405             -73.990026   28985  Subscriber   \n",
       "4             40.771522             -73.990541   14556  Subscriber   \n",
       "\n",
       "   birth year  gender  \n",
       "0        1965       1  \n",
       "1        1956       1  \n",
       "2        1959       2  \n",
       "3        1986       1  \n",
       "4        1991       1  "
      ]
     },
     "execution_count": 4,
     "metadata": {},
     "output_type": "execute_result"
    }
   ],
   "source": [
    "data_1805_NY.head()"
   ]
  },
  {
   "cell_type": "code",
   "execution_count": 5,
   "metadata": {},
   "outputs": [],
   "source": [
    "# Change datetype of columns starttime and stoptime to datetime\n",
    "data_1805_NY.starttime = pd.to_datetime(data_1805_NY.starttime)\n",
    "data_1805_NY.stoptime = pd.to_datetime(data_1805_NY.stoptime)"
   ]
  },
  {
   "cell_type": "code",
   "execution_count": 6,
   "metadata": {},
   "outputs": [
    {
     "name": "stdout",
     "output_type": "stream",
     "text": [
      "<class 'pandas.core.frame.DataFrame'>\n",
      "RangeIndex: 1824710 entries, 0 to 1824709\n",
      "Data columns (total 15 columns):\n",
      "tripduration               int64\n",
      "starttime                  datetime64[ns]\n",
      "stoptime                   datetime64[ns]\n",
      "start station id           int64\n",
      "start station name         object\n",
      "start station latitude     float64\n",
      "start station longitude    float64\n",
      "end station id             int64\n",
      "end station name           object\n",
      "end station latitude       float64\n",
      "end station longitude      float64\n",
      "bikeid                     int64\n",
      "usertype                   object\n",
      "birth year                 int64\n",
      "gender                     int64\n",
      "dtypes: datetime64[ns](2), float64(4), int64(6), object(3)\n",
      "memory usage: 208.8+ MB\n"
     ]
    }
   ],
   "source": [
    "# Check if datetype of columns starttime and stoptime is changed to datetime\n",
    "data_1805_NY.info()"
   ]
  },
  {
   "cell_type": "code",
   "execution_count": 7,
   "metadata": {},
   "outputs": [],
   "source": [
    "# Change datetype of column usertype from object to category\n",
    "data_1805_NY.usertype = data_1805_NY.usertype.astype('category')"
   ]
  },
  {
   "cell_type": "code",
   "execution_count": 8,
   "metadata": {},
   "outputs": [
    {
     "name": "stdout",
     "output_type": "stream",
     "text": [
      "<class 'pandas.core.frame.DataFrame'>\n",
      "RangeIndex: 1824710 entries, 0 to 1824709\n",
      "Data columns (total 15 columns):\n",
      "tripduration               int64\n",
      "starttime                  datetime64[ns]\n",
      "stoptime                   datetime64[ns]\n",
      "start station id           int64\n",
      "start station name         object\n",
      "start station latitude     float64\n",
      "start station longitude    float64\n",
      "end station id             int64\n",
      "end station name           object\n",
      "end station latitude       float64\n",
      "end station longitude      float64\n",
      "bikeid                     int64\n",
      "usertype                   category\n",
      "birth year                 int64\n",
      "gender                     int64\n",
      "dtypes: category(1), datetime64[ns](2), float64(4), int64(6), object(2)\n",
      "memory usage: 196.6+ MB\n"
     ]
    }
   ],
   "source": [
    "# Check if datetype of column usertype is changed to category\n",
    "data_1805_NY.info()"
   ]
  },
  {
   "cell_type": "code",
   "execution_count": 9,
   "metadata": {},
   "outputs": [],
   "source": [
    "#rename columns\n",
    "data_1805_NY.rename(columns={'start station id':'start_station_id', 'end station id':'end_station_id'}, inplace=True)\n",
    "data_1805_NY.rename(columns={'start station latitude':'start_station_latitude', 'end station latitude':'end_station_latitude'}, inplace=True)\n",
    "data_1805_NY.rename(columns={'start station longitude':'start_station_longitude', 'end station longitude':'end_station_longitude'}, inplace=True)\n",
    "data_1805_NY.rename(columns={'start station name':'start_station_name', 'end station name':'end_station_name'}, inplace=True)\n",
    "data_1805_NY.rename(columns={'birth year':'birth_year'}, inplace=True)"
   ]
  },
  {
   "cell_type": "code",
   "execution_count": 10,
   "metadata": {},
   "outputs": [
    {
     "data": {
      "text/html": [
       "<div>\n",
       "<style scoped>\n",
       "    .dataframe tbody tr th:only-of-type {\n",
       "        vertical-align: middle;\n",
       "    }\n",
       "\n",
       "    .dataframe tbody tr th {\n",
       "        vertical-align: top;\n",
       "    }\n",
       "\n",
       "    .dataframe thead th {\n",
       "        text-align: right;\n",
       "    }\n",
       "</style>\n",
       "<table border=\"1\" class=\"dataframe\">\n",
       "  <thead>\n",
       "    <tr style=\"text-align: right;\">\n",
       "      <th></th>\n",
       "      <th>tripduration</th>\n",
       "      <th>starttime</th>\n",
       "      <th>stoptime</th>\n",
       "      <th>start_station_id</th>\n",
       "      <th>start_station_name</th>\n",
       "      <th>start_station_latitude</th>\n",
       "      <th>start_station_longitude</th>\n",
       "      <th>end_station_id</th>\n",
       "      <th>end_station_name</th>\n",
       "      <th>end_station_latitude</th>\n",
       "      <th>end_station_longitude</th>\n",
       "      <th>bikeid</th>\n",
       "      <th>usertype</th>\n",
       "      <th>birth_year</th>\n",
       "      <th>gender</th>\n",
       "    </tr>\n",
       "  </thead>\n",
       "  <tbody>\n",
       "    <tr>\n",
       "      <th>0</th>\n",
       "      <td>367</td>\n",
       "      <td>2018-05-01 05:06:16.584</td>\n",
       "      <td>2018-05-01 05:12:23.965</td>\n",
       "      <td>72</td>\n",
       "      <td>W 52 St &amp; 11 Ave</td>\n",
       "      <td>40.767272</td>\n",
       "      <td>-73.993929</td>\n",
       "      <td>514</td>\n",
       "      <td>12 Ave &amp; W 40 St</td>\n",
       "      <td>40.760875</td>\n",
       "      <td>-74.002777</td>\n",
       "      <td>30567</td>\n",
       "      <td>Subscriber</td>\n",
       "      <td>1965</td>\n",
       "      <td>1</td>\n",
       "    </tr>\n",
       "  </tbody>\n",
       "</table>\n",
       "</div>"
      ],
      "text/plain": [
       "   tripduration               starttime                stoptime  \\\n",
       "0           367 2018-05-01 05:06:16.584 2018-05-01 05:12:23.965   \n",
       "\n",
       "   start_station_id start_station_name  start_station_latitude  \\\n",
       "0                72   W 52 St & 11 Ave               40.767272   \n",
       "\n",
       "   start_station_longitude  end_station_id  end_station_name  \\\n",
       "0               -73.993929             514  12 Ave & W 40 St   \n",
       "\n",
       "   end_station_latitude  end_station_longitude  bikeid    usertype  \\\n",
       "0             40.760875             -74.002777   30567  Subscriber   \n",
       "\n",
       "   birth_year  gender  \n",
       "0        1965       1  "
      ]
     },
     "execution_count": 10,
     "metadata": {},
     "output_type": "execute_result"
    }
   ],
   "source": [
    "#check if columns have been renamed\n",
    "data_1805_NY.head(1)"
   ]
  },
  {
   "cell_type": "code",
   "execution_count": 11,
   "metadata": {},
   "outputs": [],
   "source": [
    "# Convert the start_station_id and end_station_id column's data type from a float to a category \n",
    "data_1805_NY.start_station_id = data_1805_NY.start_station_id.astype('category')\n",
    "data_1805_NY.end_station_id = data_1805_NY.end_station_id.astype('category')"
   ]
  },
  {
   "cell_type": "code",
   "execution_count": 12,
   "metadata": {},
   "outputs": [
    {
     "name": "stdout",
     "output_type": "stream",
     "text": [
      "<class 'pandas.core.frame.DataFrame'>\n",
      "RangeIndex: 1824710 entries, 0 to 1824709\n",
      "Data columns (total 15 columns):\n",
      "tripduration               int64\n",
      "starttime                  datetime64[ns]\n",
      "stoptime                   datetime64[ns]\n",
      "start_station_id           category\n",
      "start_station_name         object\n",
      "start_station_latitude     float64\n",
      "start_station_longitude    float64\n",
      "end_station_id             category\n",
      "end_station_name           object\n",
      "end_station_latitude       float64\n",
      "end_station_longitude      float64\n",
      "bikeid                     int64\n",
      "usertype                   category\n",
      "birth_year                 int64\n",
      "gender                     int64\n",
      "dtypes: category(3), datetime64[ns](2), float64(4), int64(4), object(2)\n",
      "memory usage: 175.8+ MB\n"
     ]
    }
   ],
   "source": [
    "#check if station id columns have been changed to categories\n",
    "data_1805_NY.info()"
   ]
  },
  {
   "cell_type": "markdown",
   "metadata": {},
   "source": [
    "## What is the structure of my New York dataset?\n",
    "There are 1.82 Mio. individual ride entries for May 2018 and there are 15 features. \n",
    "\n",
    "### Variables with quantitative nature\n",
    "* `tripduration`\n",
    "* `birth_year`\n",
    "\n",
    "### Variables with qualitative/categorical nature\n",
    "* `starttime` and `stoptime`\n",
    "* `start_station_id` and `end_station_id`\n",
    "* `start_station_name` and `end_station_name`\n",
    "* `start_station_latitude` and `end_station_latitude`\n",
    "* `start_station_longitude` and `end_station_longitude`\n",
    "* `bikeid`\n",
    "* `usertype`\n",
    "* `gender`"
   ]
  },
  {
   "cell_type": "markdown",
   "metadata": {},
   "source": [
    "## What are the main features of interest in my dataset?\n",
    "\n",
    "### Sole exploration of New York dataset\n",
    "* When are the most trips taken in terms of time of day, day of the week?\n",
    "* How long does the average trip take?\n",
    "* Does the above depend on the day of the week, or if the user is a Subscriber or Customer/ Male or Female/'old' or 'young'?\n",
    "* Where are the stations located and how how many bikes are rented there per year?\n",
    "\n",
    "### Comparative exploration of San Francisco and New York datasets\n",
    "* When are the most trips taken in terms of time of day, day of the week?\n",
    "* How long does the average trip take?\n",
    "* Does the above depend on if the user is a Subscriber or Customer/ Male or Female/'old' or 'young'?\n"
   ]
  },
  {
   "cell_type": "markdown",
   "metadata": {},
   "source": [
    "## What features in the dataset do I think will help support my investigation into my feature of interest?\n",
    "My main features of interest in this dataset are each trip's start and end time. They can help me to answer the question when the most trips are taken in terms of time of day, day of the week or how long does the average trip take. Related to the third question mentioned above (regarding New York and San Francisco datasets), the features of user type, gender and age are important. In order to get an answer to the last question towards the New York dataset, the station's longitude, latitude and station's id is important."
   ]
  },
  {
   "cell_type": "markdown",
   "metadata": {},
   "source": [
    "## Univariate Exploration\n",
    "At first I will start to look at the distribution of rides across different times intervalls: time of day and day of the week. Here I want to find answers to the question: When are most trips taken in terms of time of day or day of the week?"
   ]
  },
  {
   "cell_type": "markdown",
   "metadata": {},
   "source": [
    "**Number of Rides Across Different Hours of the Day**"
   ]
  },
  {
   "cell_type": "code",
   "execution_count": 13,
   "metadata": {},
   "outputs": [],
   "source": [
    "#extract the starting hours of each ride, store them in a series and convert series to dataframe\n",
    "data_1805_NY['hour'] = data_1805_NY.starttime.dt.hour"
   ]
  },
  {
   "cell_type": "code",
   "execution_count": 14,
   "metadata": {},
   "outputs": [
    {
     "data": {
      "text/html": [
       "<div>\n",
       "<style scoped>\n",
       "    .dataframe tbody tr th:only-of-type {\n",
       "        vertical-align: middle;\n",
       "    }\n",
       "\n",
       "    .dataframe tbody tr th {\n",
       "        vertical-align: top;\n",
       "    }\n",
       "\n",
       "    .dataframe thead th {\n",
       "        text-align: right;\n",
       "    }\n",
       "</style>\n",
       "<table border=\"1\" class=\"dataframe\">\n",
       "  <thead>\n",
       "    <tr style=\"text-align: right;\">\n",
       "      <th></th>\n",
       "      <th>tripduration</th>\n",
       "      <th>starttime</th>\n",
       "      <th>stoptime</th>\n",
       "      <th>start_station_id</th>\n",
       "      <th>start_station_name</th>\n",
       "      <th>start_station_latitude</th>\n",
       "      <th>start_station_longitude</th>\n",
       "      <th>end_station_id</th>\n",
       "      <th>end_station_name</th>\n",
       "      <th>end_station_latitude</th>\n",
       "      <th>end_station_longitude</th>\n",
       "      <th>bikeid</th>\n",
       "      <th>usertype</th>\n",
       "      <th>birth_year</th>\n",
       "      <th>gender</th>\n",
       "      <th>hour</th>\n",
       "    </tr>\n",
       "  </thead>\n",
       "  <tbody>\n",
       "    <tr>\n",
       "      <th>0</th>\n",
       "      <td>367</td>\n",
       "      <td>2018-05-01 05:06:16.584</td>\n",
       "      <td>2018-05-01 05:12:23.965</td>\n",
       "      <td>72</td>\n",
       "      <td>W 52 St &amp; 11 Ave</td>\n",
       "      <td>40.767272</td>\n",
       "      <td>-73.993929</td>\n",
       "      <td>514</td>\n",
       "      <td>12 Ave &amp; W 40 St</td>\n",
       "      <td>40.760875</td>\n",
       "      <td>-74.002777</td>\n",
       "      <td>30567</td>\n",
       "      <td>Subscriber</td>\n",
       "      <td>1965</td>\n",
       "      <td>1</td>\n",
       "      <td>5</td>\n",
       "    </tr>\n",
       "    <tr>\n",
       "      <th>1</th>\n",
       "      <td>1313</td>\n",
       "      <td>2018-05-01 06:25:49.425</td>\n",
       "      <td>2018-05-01 06:47:42.712</td>\n",
       "      <td>72</td>\n",
       "      <td>W 52 St &amp; 11 Ave</td>\n",
       "      <td>40.767272</td>\n",
       "      <td>-73.993929</td>\n",
       "      <td>426</td>\n",
       "      <td>West St &amp; Chambers St</td>\n",
       "      <td>40.717548</td>\n",
       "      <td>-74.013221</td>\n",
       "      <td>18965</td>\n",
       "      <td>Subscriber</td>\n",
       "      <td>1956</td>\n",
       "      <td>1</td>\n",
       "      <td>6</td>\n",
       "    </tr>\n",
       "    <tr>\n",
       "      <th>2</th>\n",
       "      <td>1798</td>\n",
       "      <td>2018-05-01 06:40:26.445</td>\n",
       "      <td>2018-05-01 07:10:25.179</td>\n",
       "      <td>72</td>\n",
       "      <td>W 52 St &amp; 11 Ave</td>\n",
       "      <td>40.767272</td>\n",
       "      <td>-73.993929</td>\n",
       "      <td>3435</td>\n",
       "      <td>Grand St &amp; Elizabeth St</td>\n",
       "      <td>40.718822</td>\n",
       "      <td>-73.995960</td>\n",
       "      <td>30241</td>\n",
       "      <td>Subscriber</td>\n",
       "      <td>1959</td>\n",
       "      <td>2</td>\n",
       "      <td>6</td>\n",
       "    </tr>\n",
       "    <tr>\n",
       "      <th>3</th>\n",
       "      <td>518</td>\n",
       "      <td>2018-05-01 07:06:02.973</td>\n",
       "      <td>2018-05-01 07:14:41.004</td>\n",
       "      <td>72</td>\n",
       "      <td>W 52 St &amp; 11 Ave</td>\n",
       "      <td>40.767272</td>\n",
       "      <td>-73.993929</td>\n",
       "      <td>477</td>\n",
       "      <td>W 41 St &amp; 8 Ave</td>\n",
       "      <td>40.756405</td>\n",
       "      <td>-73.990026</td>\n",
       "      <td>28985</td>\n",
       "      <td>Subscriber</td>\n",
       "      <td>1986</td>\n",
       "      <td>1</td>\n",
       "      <td>7</td>\n",
       "    </tr>\n",
       "    <tr>\n",
       "      <th>4</th>\n",
       "      <td>109</td>\n",
       "      <td>2018-05-01 07:26:32.345</td>\n",
       "      <td>2018-05-01 07:28:21.542</td>\n",
       "      <td>72</td>\n",
       "      <td>W 52 St &amp; 11 Ave</td>\n",
       "      <td>40.767272</td>\n",
       "      <td>-73.993929</td>\n",
       "      <td>530</td>\n",
       "      <td>11 Ave &amp; W 59 St</td>\n",
       "      <td>40.771522</td>\n",
       "      <td>-73.990541</td>\n",
       "      <td>14556</td>\n",
       "      <td>Subscriber</td>\n",
       "      <td>1991</td>\n",
       "      <td>1</td>\n",
       "      <td>7</td>\n",
       "    </tr>\n",
       "  </tbody>\n",
       "</table>\n",
       "</div>"
      ],
      "text/plain": [
       "   tripduration               starttime                stoptime  \\\n",
       "0           367 2018-05-01 05:06:16.584 2018-05-01 05:12:23.965   \n",
       "1          1313 2018-05-01 06:25:49.425 2018-05-01 06:47:42.712   \n",
       "2          1798 2018-05-01 06:40:26.445 2018-05-01 07:10:25.179   \n",
       "3           518 2018-05-01 07:06:02.973 2018-05-01 07:14:41.004   \n",
       "4           109 2018-05-01 07:26:32.345 2018-05-01 07:28:21.542   \n",
       "\n",
       "  start_station_id start_station_name  start_station_latitude  \\\n",
       "0               72   W 52 St & 11 Ave               40.767272   \n",
       "1               72   W 52 St & 11 Ave               40.767272   \n",
       "2               72   W 52 St & 11 Ave               40.767272   \n",
       "3               72   W 52 St & 11 Ave               40.767272   \n",
       "4               72   W 52 St & 11 Ave               40.767272   \n",
       "\n",
       "   start_station_longitude end_station_id         end_station_name  \\\n",
       "0               -73.993929            514         12 Ave & W 40 St   \n",
       "1               -73.993929            426    West St & Chambers St   \n",
       "2               -73.993929           3435  Grand St & Elizabeth St   \n",
       "3               -73.993929            477          W 41 St & 8 Ave   \n",
       "4               -73.993929            530         11 Ave & W 59 St   \n",
       "\n",
       "   end_station_latitude  end_station_longitude  bikeid    usertype  \\\n",
       "0             40.760875             -74.002777   30567  Subscriber   \n",
       "1             40.717548             -74.013221   18965  Subscriber   \n",
       "2             40.718822             -73.995960   30241  Subscriber   \n",
       "3             40.756405             -73.990026   28985  Subscriber   \n",
       "4             40.771522             -73.990541   14556  Subscriber   \n",
       "\n",
       "   birth_year  gender  hour  \n",
       "0        1965       1     5  \n",
       "1        1956       1     6  \n",
       "2        1959       2     6  \n",
       "3        1986       1     7  \n",
       "4        1991       1     7  "
      ]
     },
     "execution_count": 14,
     "metadata": {},
     "output_type": "execute_result"
    }
   ],
   "source": [
    "data_1805_NY.head()"
   ]
  },
  {
   "cell_type": "code",
   "execution_count": 15,
   "metadata": {},
   "outputs": [
    {
     "data": {
      "image/png": "[encoded data removed]",
      "text/plain": [
       "<Figure size 432x288 with 1 Axes>"
      ]
     },
     "metadata": {
      "needs_background": "light"
     },
     "output_type": "display_data"
    }
   ],
   "source": [
    "#plot the number of rides per hour of the day\n",
    "base_color = sb.color_palette()[0]\n",
    "sb.countplot(data = data_1805_NY, x = 'hour', color = base_color);\n",
    "plt.xlabel(\"Hours of the Day\")\n",
    "plt.ylabel(\"Number of Rides\")\n",
    "plt.title(\"Number of Rides during different Hours of the Day\");"
   ]
  },
  {
   "cell_type": "markdown",
   "metadata": {},
   "source": [
    "## Observations and next steps\n",
    "We can see that most of the rides happen in the morning and evening times during the peak hours. A similar pattern can be found when exploring the San Francsico data. Next, I examine distribution of rides across different days of the week."
   ]
  },
  {
   "cell_type": "markdown",
   "metadata": {},
   "source": [
    "**Number of Rides Across Different Days of the Week**"
   ]
  },
  {
   "cell_type": "code",
   "execution_count": 16,
   "metadata": {},
   "outputs": [],
   "source": [
    "#extract the weekdays of each ride, store them in a series and convert series to dataframe\n",
    "data_1805_NY['weekday'] = data_1805_NY['starttime'].dt.weekday_name"
   ]
  },
  {
   "cell_type": "code",
   "execution_count": 17,
   "metadata": {},
   "outputs": [
    {
     "data": {
      "image/png": "[encoded data removed]",
      "text/plain": [
       "<Figure size 576x432 with 1 Axes>"
      ]
     },
     "metadata": {},
     "output_type": "display_data"
    }
   ],
   "source": [
    "#plot the number of rides in different weekdays\n",
    "order = ['Monday', 'Tuesday', 'Wednesday', 'Thursday', 'Friday', 'Saturday', 'Sunday']\n",
    "base_color = sb.color_palette()[0]\n",
    "sb.set(rc={'figure.figsize':(8,6)})\n",
    "sb.countplot(data = data_1805_NY, x = 'weekday', color = base_color, order = order);\n",
    "plt.xlabel(\"weekdays\")\n",
    "plt.ylabel(\"Number of Rides\")\n",
    "plt.title(\"Number of Rides Across Different Days of the Week\");"
   ]
  },
  {
   "cell_type": "markdown",
   "metadata": {},
   "source": [
    "## Observations and next steps\n",
    "We can see that most of the rides happen during the working days. Fewer rides happen during the weekends. "
   ]
  },
  {
   "cell_type": "markdown",
   "metadata": {},
   "source": [
    "## Bivariate Exploration\n",
    "Here I want to find answers to the following questions:\n",
    "\n",
    "* How long does the average trip take?\n",
    "* Does the above depend on if a user is a subscriber or customer?"
   ]
  },
  {
   "cell_type": "markdown",
   "metadata": {},
   "source": [
    "At first I'm interested in the trip time between males/females, between different days in a week and between different unser types."
   ]
  },
  {
   "cell_type": "markdown",
   "metadata": {},
   "source": [
    "**Trip time of males and females**"
   ]
  },
  {
   "cell_type": "code",
   "execution_count": 18,
   "metadata": {},
   "outputs": [
    {
     "data": {
      "text/plain": [
       "1    1203816\n",
       "2     421304\n",
       "0     199590\n",
       "Name: gender, dtype: int64"
      ]
     },
     "execution_count": 18,
     "metadata": {},
     "output_type": "execute_result"
    }
   ],
   "source": [
    "#as general info, get value counts of member_gender column\n",
    "data_1805_NY['gender'].value_counts()"
   ]
  },
  {
   "cell_type": "code",
   "execution_count": 19,
   "metadata": {},
   "outputs": [],
   "source": [
    "#replace values: 1 --> male, 2 --> female, 0 --> unknown\n",
    "data_1805_NY.gender.replace(1, 'male', inplace=True)"
   ]
  },
  {
   "cell_type": "code",
   "execution_count": 20,
   "metadata": {},
   "outputs": [],
   "source": [
    "data_1805_NY.gender.replace(2, 'female', inplace=True)\n",
    "data_1805_NY.gender.replace(0, 'unknown', inplace=True)"
   ]
  },
  {
   "cell_type": "code",
   "execution_count": 21,
   "metadata": {},
   "outputs": [
    {
     "data": {
      "text/plain": [
       "male       1203816\n",
       "female      421304\n",
       "unknown     199590\n",
       "Name: gender, dtype: int64"
      ]
     },
     "execution_count": 21,
     "metadata": {},
     "output_type": "execute_result"
    }
   ],
   "source": [
    "data_1805_NY['gender'].value_counts()"
   ]
  },
  {
   "cell_type": "code",
   "execution_count": 22,
   "metadata": {},
   "outputs": [
    {
     "data": {
      "image/png": "[encoded data removed]",
      "text/plain": [
       "<Figure size 576x432 with 1 Axes>"
      ]
     },
     "metadata": {},
     "output_type": "display_data"
    }
   ],
   "source": [
    "#plot trip time of males and females\n",
    "sb.boxplot(data = data_1805_NY, x = 'gender', y = 'tripduration', color = base_color);\n",
    "plt.xlabel(\"Gender\")\n",
    "plt.ylabel(\"Trip Time (seconds)\")\n",
    "plt.title(\"Trip Time (Seconds) of Males and Females\");"
   ]
  },
  {
   "cell_type": "code",
   "execution_count": 23,
   "metadata": {},
   "outputs": [
    {
     "data": {
      "image/png": "[encoded data removed]",
      "text/plain": [
       "<Figure size 504x432 with 1 Axes>"
      ]
     },
     "metadata": {},
     "output_type": "display_data"
    }
   ],
   "source": [
    "#use log scale to make results visible\n",
    "f, ax = plt.subplots(figsize=(7, 6))\n",
    "ax.set_yscale(\"log\")\n",
    "sb.boxplot(data = data_1805_NY, x = 'gender', y = 'tripduration', color = base_color);\n",
    "plt.xlabel(\"Gender\")\n",
    "plt.ylabel(\"Trip Time (seconds)\")\n",
    "plt.title(\"Trip Time (Seconds) of Males and Females\");"
   ]
  },
  {
   "cell_type": "code",
   "execution_count": 24,
   "metadata": {},
   "outputs": [],
   "source": [
    "data_1805_NY_1 = data_1805_NY.copy()"
   ]
  },
  {
   "cell_type": "code",
   "execution_count": 25,
   "metadata": {},
   "outputs": [],
   "source": [
    "#exlude the values 'unknown'\n",
    "options_3 = ['female', 'male']\n",
    "data_1805_NY_1 = data_1805_NY_1[data_1805_NY_1['gender'].isin(options_3)]"
   ]
  },
  {
   "cell_type": "code",
   "execution_count": 26,
   "metadata": {},
   "outputs": [
    {
     "data": {
      "text/plain": [
       "male      1203816\n",
       "female     421304\n",
       "Name: gender, dtype: int64"
      ]
     },
     "execution_count": 26,
     "metadata": {},
     "output_type": "execute_result"
    }
   ],
   "source": [
    "#check if values 'unknown' are excluded\n",
    "data_1805_NY_1['gender'].value_counts()"
   ]
  },
  {
   "cell_type": "code",
   "execution_count": 27,
   "metadata": {},
   "outputs": [
    {
     "data": {
      "image/png": "[encoded data removed]",
      "text/plain": [
       "<Figure size 504x432 with 1 Axes>"
      ]
     },
     "metadata": {},
     "output_type": "display_data"
    }
   ],
   "source": [
    "#plot trip time of males and females\n",
    "f, ax = plt.subplots(figsize=(7, 6))\n",
    "ax.set_yscale(\"log\")\n",
    "sb.boxplot(data = data_1805_NY_1, x = 'gender', y = 'tripduration', color = base_color);\n",
    "plt.xlabel(\"Gender\")\n",
    "plt.ylabel(\"Trip Time (seconds)\")\n",
    "plt.title(\"Trip Time (Seconds) of Males and Females\");"
   ]
  },
  {
   "cell_type": "markdown",
   "metadata": {},
   "source": [
    "### Observations and next steps\n",
    "There are many outliers on the y scale, so I transformed this scale to a log scale. I can see that the median as weel as the values for the first quartile (Q1) and the third quartile (Q3) with regard to the duration of rides conducted by females are higher than by males. Now I want to see duration of rides across different days."
   ]
  },
  {
   "cell_type": "markdown",
   "metadata": {},
   "source": [
    "**Trip time across different days of the week**\n"
   ]
  },
  {
   "cell_type": "code",
   "execution_count": 29,
   "metadata": {},
   "outputs": [
    {
     "data": {
      "image/png": "[encoded data removed]",
      "text/plain": [
       "<Figure size 576x432 with 1 Axes>"
      ]
     },
     "metadata": {},
     "output_type": "display_data"
    }
   ],
   "source": [
    "#plot trip time across different days of the week\n",
    "sb.boxplot(data = data_1805_NY, x = 'weekday', y = 'tripduration', color = base_color);\n",
    "plt.xlabel(\"Weekdays\")\n",
    "plt.ylabel(\"Trip Time (seconds)\")\n",
    "plt.title(\"Trip Time (Seconds) across Weekdays\");"
   ]
  },
  {
   "cell_type": "code",
   "execution_count": 30,
   "metadata": {},
   "outputs": [
    {
     "data": {
      "image/png": "[encoded data removed]",
      "text/plain": [
       "<Figure size 504x432 with 1 Axes>"
      ]
     },
     "metadata": {},
     "output_type": "display_data"
    }
   ],
   "source": [
    "#put weekdays in right order and use log scale\n",
    "f, ax = plt.subplots(figsize=(7, 6))\n",
    "ax.set_yscale(\"log\")\n",
    "order = ['Monday', 'Tuesday', 'Wednesday', 'Thursday', 'Friday', 'Saturday', 'Sunday']\n",
    "sb.boxplot(data = data_1805_NY, x = 'weekday', y = 'tripduration', color = base_color, order = order);\n",
    "plt.xlabel(\"Weekdays\")\n",
    "plt.ylabel(\"Trip Time (seconds)\")\n",
    "plt.title(\"Trip Time (Seconds) across Weekdays\");"
   ]
  },
  {
   "cell_type": "code",
   "execution_count": 31,
   "metadata": {},
   "outputs": [
    {
     "data": {
      "text/plain": [
       "weekday\n",
       "Friday       670\n",
       "Monday       684\n",
       "Saturday     726\n",
       "Sunday       669\n",
       "Thursday     636\n",
       "Tuesday      643\n",
       "Wednesday    646\n",
       "Name: tripduration, dtype: int64"
      ]
     },
     "execution_count": 31,
     "metadata": {},
     "output_type": "execute_result"
    }
   ],
   "source": [
    "#get median of trip time during different weekdays\n",
    "order = ['Monday', 'Tuesday', 'Wednesday', 'Thursday', 'Friday', 'Saturday', 'Sunday']\n",
    "medians = data_1805_NY.groupby(['weekday'])['tripduration'].median()\n",
    "medians"
   ]
  },
  {
   "cell_type": "markdown",
   "metadata": {},
   "source": [
    "### Observations and next steps\n",
    "There are many outliers on the y scale, so I transformed this scale to a log scale. I can see that the median as well as the values for Q1 and Q3 with regard to the duration of rides during the weekend are similar, regardless if it's a working day or weekend. Now I want to see duration of rides across different user types.\n",
    "\n",
    "Duration of rides between different user types\n",
    "\n",
    "\"Subscriber\" = Member\n",
    "\"Customer\" = Casual"
   ]
  },
  {
   "cell_type": "code",
   "execution_count": null,
   "metadata": {},
   "outputs": [],
   "source": []
  }
 ],
 "metadata": {
  "kernelspec": {
   "display_name": "Python 3",
   "language": "python",
   "name": "python3"
  },
  "language_info": {
   "codemirror_mode": {
    "name": "ipython",
    "version": 3
   },
   "file_extension": ".py",
   "mimetype": "text/x-python",
   "name": "python",
   "nbconvert_exporter": "python",
   "pygments_lexer": "ipython3",
   "version": "3.7.3"
  }
 },
 "nbformat": 4,
 "nbformat_minor": 2
}
